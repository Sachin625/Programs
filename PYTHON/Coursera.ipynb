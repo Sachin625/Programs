{
 "cells": [
  {
   "cell_type": "code",
   "execution_count": 11,
   "metadata": {
    "scrolled": false
   },
   "outputs": [
    {
     "name": "stdout",
     "output_type": "stream",
     "text": [
      "Enter hours : 35\n",
      "Enter Rate : 2.75\n",
      "Pay :  96.25\n"
     ]
    }
   ],
   "source": [
    "hrs = int(input(\"Enter hours : \"))\n",
    "rph =float(input(\"Enter Rate : \"))\n",
    "pay = hrs * rph\n",
    "print(\"Pay : \",pay)"
   ]
  },
  {
   "cell_type": "code",
   "execution_count": 2,
   "metadata": {},
   "outputs": [
    {
     "name": "stdout",
     "output_type": "stream",
     "text": [
      "Enter number of hours worked : 45\n",
      "Enter payement per hour : 10.5\n",
      "Final payement :  498.75\n"
     ]
    }
   ],
   "source": [
    "hrs = int(input(\"Enter number of hours worked : \"))\n",
    "pay_per_hour = float(input(\"Enter payement per hour : \"))\n",
    "if(hrs<40):\n",
    "    final_pay = hrs * pay_per_hour\n",
    "    print(\"Final payement : \",final_pay)\n",
    "else:\n",
    "    extra_hours = hrs - 40\n",
    "    final_pay = 40 * pay_per_hour + extra_hours * 1.5 * pay_per_hour\n",
    "    print(\"Final payement : \",final_pay)"
   ]
  },
  {
   "cell_type": "code",
   "execution_count": null,
   "metadata": {},
   "outputs": [],
   "source": []
  }
 ],
 "metadata": {
  "kernelspec": {
   "display_name": "Python 3",
   "language": "python",
   "name": "python3"
  },
  "language_info": {
   "codemirror_mode": {
    "name": "ipython",
    "version": 3
   },
   "file_extension": ".py",
   "mimetype": "text/x-python",
   "name": "python",
   "nbconvert_exporter": "python",
   "pygments_lexer": "ipython3",
   "version": "3.7.6"
  }
 },
 "nbformat": 4,
 "nbformat_minor": 4
}
