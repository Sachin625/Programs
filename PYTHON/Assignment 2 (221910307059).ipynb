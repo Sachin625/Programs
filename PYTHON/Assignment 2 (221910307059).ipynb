{
 "cells": [
  {
   "cell_type": "markdown",
   "metadata": {},
   "source": [
    "### Name : Veeramalla Sachin\n",
    "### Pin  : 221910307059"
   ]
  },
  {
   "cell_type": "markdown",
   "metadata": {},
   "source": [
    "### Question 1 :Write a program to read  2 integer values, return True if one is negative and one is positive otherwise return False. "
   ]
  },
  {
   "cell_type": "code",
   "execution_count": 23,
   "metadata": {},
   "outputs": [
    {
     "name": "stdout",
     "output_type": "stream",
     "text": [
      "Enter First number : 4\n",
      "Enter Second number :-3\n",
      "True\n"
     ]
    }
   ],
   "source": [
    "num1 = int(input(\"Enter First number : \"))\n",
    "num2 = int(input(\"Enter Second number :\"))\n",
    "if ((num1>0 or num2>0) and (num1<0 or num2<0)):\n",
    "    print(\"True\")\n",
    "else:\n",
    "    print(\"False\")\n"
   ]
  },
  {
   "cell_type": "markdown",
   "metadata": {},
   "source": [
    "### Question 2 : Write a python program to input 5 subject marks and calculate total marks, percentage and grade based on following criteria\n",
    "i)percentage less than 50 (Grade C)                       \n",
    "ii)percentage equal to 50 and less than 80 (Grade B)\n",
    "iii)percentage equal to 80 and more than 80 (Grade A)"
   ]
  },
  {
   "cell_type": "code",
   "execution_count": 27,
   "metadata": {},
   "outputs": [
    {
     "name": "stdout",
     "output_type": "stream",
     "text": [
      "Enter marks scored in Mathematics :95\n",
      "Enter marks scored in English :84\n",
      "Enter marks scored in physics :90\n",
      "Enter marks scored in chemistry :92\n",
      "Enter marks scored in Python :87\n",
      "total : 448\n",
      "Percentage :  89.6\n",
      "Grade A\n"
     ]
    }
   ],
   "source": [
    "math = int(input(\"Enter marks scored in Mathematics :\"))\n",
    "english = int(input(\"Enter marks scored in English :\"))\n",
    "physics = int(input(\"Enter marks scored in physics :\"))\n",
    "chemistry = int(input(\"Enter marks scored in chemistry :\"))\n",
    "python = int(input(\"Enter marks scored in Python :\"))\n",
    "total=math+english+physics+chemistry+python\n",
    "print(\"total :\", total)\n",
    "percentage = total/5\n",
    "print(\"Percentage : \",percentage)\n",
    "if (percentage < 50):\n",
    "    print(\"Grade C\")\n",
    "elif(percentage >=50 and percentage < 80):\n",
    "    print(\"Grade B\")\n",
    "else:\n",
    "    print(\"Grade A\")\n"
   ]
  },
  {
   "attachments": {},
   "cell_type": "markdown",
   "metadata": {},
   "source": [
    "### Question 3 : Write a program which will find all such numbers which are divisible by 5 but are not a multiple of 3, between 200 and 300(both included)."
   ]
  },
  {
   "cell_type": "code",
   "execution_count": 8,
   "metadata": {},
   "outputs": [
    {
     "name": "stdout",
     "output_type": "stream",
     "text": [
      "200\n",
      "205\n",
      "215\n",
      "220\n",
      "230\n",
      "235\n",
      "245\n",
      "250\n",
      "260\n",
      "265\n",
      "275\n",
      "280\n",
      "290\n",
      "295\n"
     ]
    }
   ],
   "source": [
    "for x in range(200,301):\n",
    "    if((x%5==0) and (x%3!=0)):\n",
    "        print(x)\n",
    "    "
   ]
  },
  {
   "attachments": {},
   "cell_type": "markdown",
   "metadata": {},
   "source": [
    "### Question 4 : Write a program for calculating the price of a product after adding the sales tax to its original price (read original price and sales tax values from user)."
   ]
  },
  {
   "cell_type": "code",
   "execution_count": 9,
   "metadata": {},
   "outputs": [
    {
     "name": "stdout",
     "output_type": "stream",
     "text": [
      "Enter the original cost of the product :500\n",
      "Enter sales tax applied on the product :60\n",
      "Price of a product after adding the sales tax to its original price :  560.0\n"
     ]
    }
   ],
   "source": [
    "original_price = float(input(\"Enter the original cost of the product :\"))\n",
    "sales_tax      = float(input(\"Enter sales tax applied on the product :\"))\n",
    "final_price = original_price + sales_tax\n",
    "print(\"Price of a product after adding the sales tax to its original price : \",final_price)"
   ]
  },
  {
   "cell_type": "markdown",
   "metadata": {},
   "source": [
    "### Question 5 : Write a program to calculate the weekly wages of an employee. The pay depends on wages per hour and the number of hours worked per day. Moreover, if the employee has worked for more than 30 hours, then he or she gets twice the wages per hour, for every extra hour that he or she has worked."
   ]
  },
  {
   "cell_type": "code",
   "execution_count": 22,
   "metadata": {},
   "outputs": [
    {
     "name": "stdout",
     "output_type": "stream",
     "text": [
      "Enter wage earned per hour : 40\n",
      "Enter number of hours worked :31\n",
      "Total wage per week : 1280.0\n"
     ]
    }
   ],
   "source": [
    "wage_per_hour = float(input(\"Enter wage earned per hour : \"))\n",
    "hours_worked = int(input(\"Enter number of hours worked :\"))\n",
    "if(hours_worked <=30):\n",
    "    wage_per_week = hours_worked * wage_per_hour\n",
    "    print(\"Total wage per week :\",wage_per_week)\n",
    "else:\n",
    "    remaining_hours = hours_worked - 30\n",
    "    wage_per_week = (remaining_hours*wage_per_hour*2) + 30*wage_per_hour\n",
    "    print(\"Total wage per week :\", wage_per_week)"
   ]
  }
 ],
 "metadata": {
  "kernelspec": {
   "display_name": "Python 3",
   "language": "python",
   "name": "python3"
  },
  "language_info": {
   "codemirror_mode": {
    "name": "ipython",
    "version": 3
   },
   "file_extension": ".py",
   "mimetype": "text/x-python",
   "name": "python",
   "nbconvert_exporter": "python",
   "pygments_lexer": "ipython3",
   "version": "3.7.6"
  }
 },
 "nbformat": 4,
 "nbformat_minor": 4
}
