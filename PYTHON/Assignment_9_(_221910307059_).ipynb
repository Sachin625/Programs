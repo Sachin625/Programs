{
  "nbformat": 4,
  "nbformat_minor": 0,
  "metadata": {
    "kernelspec": {
      "display_name": "Python 3",
      "language": "python",
      "name": "python3"
    },
    "language_info": {
      "codemirror_mode": {
        "name": "ipython",
        "version": 3
      },
      "file_extension": ".py",
      "mimetype": "text/x-python",
      "name": "python",
      "nbconvert_exporter": "python",
      "pygments_lexer": "ipython3",
      "version": "3.7.6"
    },
    "colab": {
      "name": "Assignment 9 ( 221910307059 ).ipynb",
      "provenance": []
    }
  },
  "cells": [
    {
      "cell_type": "markdown",
      "metadata": {
        "id": "7FHOaDiOHsJq",
        "colab_type": "text"
      },
      "source": [
        "### Question 1 : Write a Python program to create a function that takes one argument, and that argument will be multiplied with an unknown given number."
      ]
    },
    {
      "cell_type": "code",
      "metadata": {
        "id": "miEzlt83HsJr",
        "colab_type": "code",
        "colab": {},
        "outputId": "a5875f8b-78d8-4912-bad1-c507d92b6646"
      },
      "source": [
        "def sample(n):\n",
        "    x = eval(input(\"Enter a number to be multiplied : \"))\n",
        "    result = n * x\n",
        "    print(n,\"*\",x,\"=\",result)\n",
        "n = eval(input(\"Enter a number : \"))\n",
        "sample(n)"
      ],
      "execution_count": null,
      "outputs": [
        {
          "output_type": "stream",
          "text": [
            "Enter a number : 5\n",
            "Enter a number to be multiplied : 7.8\n",
            "5 * 7.8 = 39.0\n"
          ],
          "name": "stdout"
        }
      ]
    },
    {
      "cell_type": "markdown",
      "metadata": {
        "id": "Dn93sITqHsJw",
        "colab_type": "text"
      },
      "source": [
        "### Question 2 : Write a Python program to insert an element before each element of a list."
      ]
    },
    {
      "cell_type": "code",
      "metadata": {
        "id": "SC0jIQtFHsJx",
        "colab_type": "code",
        "colab": {},
        "outputId": "487fc53c-ef50-4868-ca1c-5f900ccb3db5"
      },
      "source": [
        "lst = list(map(eval,input(\"Enter elements of a list1 : \").split()))\n",
        "lst1=list(map(eval,input(\"Enter elements of a list2 : \").split()))\n",
        "if(len(lst)==len(lst1)):\n",
        "    result = [None]*(len(lst)+len(lst1))\n",
        "    result[::2] = lst\n",
        "    result[1::2] = lst1                                          #if statement is true\n",
        "    print(result)\n",
        "else:\n",
        "    print(\"Enter list of same length as list1\")"
      ],
      "execution_count": null,
      "outputs": [
        {
          "output_type": "stream",
          "text": [
            "Enter elements of a list1 : 1 'hello' 4.8 'world' 3.14 100\n",
            "Enter elements of a list2 : 4 'python' 3 5.78 'program' 200\n",
            "[1, 4, 'hello', 'python', 4.8, 3, 'world', 5.78, 3.14, 'program', 100, 200]\n"
          ],
          "name": "stdout"
        }
      ]
    },
    {
      "cell_type": "code",
      "metadata": {
        "id": "ejAQvj42HsJ0",
        "colab_type": "code",
        "colab": {},
        "outputId": "cb9fd160-b19c-40d9-fcea-a10cba5119ae"
      },
      "source": [
        "lst = list(map(eval,input(\"Enter elements of a list1 : \").split()))\n",
        "lst1=list(map(eval,input(\"Enter elements of a list2 : \").split()))\n",
        "if(len(lst)==len(lst1)):\n",
        "    result = [None]*(len(lst)+len(lst1))\n",
        "    result[::2] = lst                                           #if statement is false   \n",
        "                                                                #else statement is true\n",
        "    result[1::2] = lst1\n",
        "    print(result)\n",
        "else:\n",
        "    print(\"Enter list of same length as list1\")"
      ],
      "execution_count": null,
      "outputs": [
        {
          "output_type": "stream",
          "text": [
            "Enter elements of a list1 : 3 'python' 'hello'\n",
            "Enter elements of a list2 : 4 3.14 625 'string'\n",
            "Enter list of same length as list1\n"
          ],
          "name": "stdout"
        }
      ]
    },
    {
      "cell_type": "markdown",
      "metadata": {
        "id": "J3rLzoZpHsJ3",
        "colab_type": "text"
      },
      "source": [
        "### Question 3 : Write a Python program to take two dictionaries and combine those two dictionaries into one and store them in first dictionary when the key’s are different and delete if the key’s are same.\n",
        "Sample Input: d1={1:34,2:25,3:23,4:19,5:28}\n",
        "d2={6:20,7:18,3:20,8:29,5:20}\n",
        "Expected Output:d1={1:34,2:25,4:19,6:20,7:18,8:29}\n",
        "d2={6:20,7:18,3:20,8:29,5:20}"
      ]
    },
    {
      "cell_type": "code",
      "metadata": {
        "id": "QMcnB3oVHsJ3",
        "colab_type": "code",
        "colab": {},
        "outputId": "209db0a3-af40-44cd-dd9f-29fcd6720fce"
      },
      "source": [
        "n = int(input(\"Enter number of elements in dictionary : \"))\n",
        "d1 = dict(input(\"first Dict : \").split() for i in range(n))\n",
        "d2 = dict(input(\"Second Dict : \").split() for j in range(n))\n",
        "d=dict(d1)\n",
        "d.update(d2)\n",
        "lst=[]\n",
        "for i in d1.keys():\n",
        "    for j in d2.keys():\n",
        "        if i==j:\n",
        "            lst.append(i)\n",
        "for x in lst:\n",
        "    d.pop(x)\n",
        "d1=d\n",
        "print(\"dict1 after updating and deleting : \",d)\n",
        "print(\"dict2 : \",d2)"
      ],
      "execution_count": null,
      "outputs": [
        {
          "output_type": "stream",
          "text": [
            "Enter number of elements in dictionary : 5\n",
            "first Dict : 1 34\n",
            "first Dict : 2 25\n",
            "first Dict : 3 23\n",
            "first Dict : 4 19\n",
            "first Dict : 5 28\n",
            "Second Dict : 6 20\n",
            "Second Dict : 7 18\n",
            "Second Dict : 3 20\n",
            "Second Dict : 8 29\n",
            "Second Dict : 5 20\n",
            "dict1 after updating and deleting :  {'1': '34', '2': '25', '4': '19', '6': '20', '7': '18', '8': '29'}\n",
            "dict2 :  {'6': '20', '7': '18', '3': '20', '8': '29', '5': '20'}\n"
          ],
          "name": "stdout"
        }
      ]
    },
    {
      "cell_type": "markdown",
      "metadata": {
        "id": "odSXZxlSHsJ6",
        "colab_type": "text"
      },
      "source": [
        "### Question 4 : Write a program which takes 2 digits, X,Y as input and generates a 2-dimensional array. The element value in the i-th row and j-th column of the array should be i*j.(Hint: use nested list to create 2D array)"
      ]
    },
    {
      "cell_type": "code",
      "metadata": {
        "id": "lUoWDVr2HsJ6",
        "colab_type": "code",
        "colab": {},
        "outputId": "19e6a790-d0c2-4744-80ba-68cef456e8ab"
      },
      "source": [
        "matrix=[]\n",
        "x=int(input(\"Enter number of rows : \"))\n",
        "y = int(input(\"Enter number of columns : \"))\n",
        "for i in range(x): \n",
        "    matrix.append([]) \n",
        "    for j in range(y): \n",
        "        matrix[i].append((i+1)*(j+1)) \n",
        "print(matrix) "
      ],
      "execution_count": null,
      "outputs": [
        {
          "output_type": "stream",
          "text": [
            "Enter number of rows : 2\n",
            "Enter number of columns : 3\n",
            "[[1, 2, 3], [2, 4, 6]]\n"
          ],
          "name": "stdout"
        }
      ]
    },
    {
      "cell_type": "markdown",
      "metadata": {
        "id": "qGl19PtnHsJ9",
        "colab_type": "text"
      },
      "source": [
        "### Question 5 : Write a program to sort the dictionary during creation.(Read key-value pairs from user during exection)\n",
        "Sample Input: n=5\n",
        "Key1=10\n",
        "Value1=34\n",
        "//After first pair-output: D1={10:34}\n",
        "Key2=8\n",
        "Value2=20\n",
        "//After second pair-D1={8:20,10:34}\n",
        "Key3=20\n",
        "Value3=30\n",
        "//After third pair-D1={8:20,10:34,20:30}\n",
        "Key4=15\n",
        "Value4=25\n",
        "//After fourth pair-D1={8:20,10:34,15:25,20:30}\n",
        "Key5=12\n",
        "Value5=24\n",
        "//After fifth pair-D1={8:20,10:34,12:24,15:25,20:30}"
      ]
    },
    {
      "cell_type": "code",
      "metadata": {
        "id": "RLAcAGHTHsJ9",
        "colab_type": "code",
        "colab": {},
        "outputId": "8b67b56b-8646-4a16-de1a-e02d4c43a0a5"
      },
      "source": [
        "\n",
        "n = int(input(\"Enter number of elements in dictionary : \"))\n",
        "sorted_dic={}\n",
        "d={}\n",
        "for i in range(n):\n",
        "    key=int(input(\"Enter key value :\"))\n",
        "    value=int(input(\"Enter a value :\"))\n",
        "    d.update({key:value})\n",
        "    print(sorted(d.items(),key = lambda x:x[0]))"
      ],
      "execution_count": null,
      "outputs": [
        {
          "output_type": "stream",
          "text": [
            "Enter number of elements in dictionary : 5\n",
            "Enter key value :12 \n",
            "Enter a value :10\n",
            "[(12, 10)]\n",
            "Enter key value :5\n",
            "Enter a value :28\n",
            "[(5, 28), (12, 10)]\n",
            "Enter key value :1\n",
            "Enter a value :35\n",
            "[(1, 35), (5, 28), (12, 10)]\n",
            "Enter key value :7\n",
            "Enter a value :29\n",
            "[(1, 35), (5, 28), (7, 29), (12, 10)]\n",
            "Enter key value :10\n",
            "Enter a value :28\n",
            "[(1, 35), (5, 28), (7, 29), (10, 28), (12, 10)]\n"
          ],
          "name": "stdout"
        }
      ]
    }
  ]
}