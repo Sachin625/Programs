{
 "cells": [
  {
   "cell_type": "code",
   "execution_count": 8,
   "metadata": {},
   "outputs": [
    {
     "name": "stdout",
     "output_type": "stream",
     "text": [
      "Number of integers in a list :  3\n",
      "Number of floats in a list :  2\n",
      "Number of strings in a list :  3\n"
     ]
    }
   ],
   "source": [
    "1.\n",
    "lst = [8.34,70,\"gitam\",\"Hyderabad\",\"vizag\",57,3.14,234]\n",
    "x=[]\n",
    "y=[]\n",
    "z=[]\n",
    "for i in lst:\n",
    "    if type(i)==int:\n",
    "        x.append(i)\n",
    "    elif type(i)==float:\n",
    "        y.append(i)\n",
    "    elif type(i)==str:\n",
    "        z.append(i)\n",
    "print(\"Number of integers in a list : \",len(x))\n",
    "print(\"Number of floats in a list : \",len(y))\n",
    "print(\"Number of strings in a list : \",len(z))"
   ]
  },
  {
   "cell_type": "code",
   "execution_count": 9,
   "metadata": {},
   "outputs": [
    {
     "name": "stdout",
     "output_type": "stream",
     "text": [
      "Mean of given list :  5.0\n"
     ]
    }
   ],
   "source": [
    "lst4 = [1,2,3,4,5,6,7,8,9]\n",
    "n=len(lst4)\n",
    "sum=0\n",
    "for i in range(n):\n",
    "    sum=sum+lst4[i]\n",
    "mean=sum/n\n",
    "print(\"Mean of given list : \",mean)"
   ]
  },
  {
   "cell_type": "code",
   "execution_count": 5,
   "metadata": {},
   "outputs": [
    {
     "name": "stdout",
     "output_type": "stream",
     "text": [
      "Maximum element index of list :  8\n",
      "Minimum element index of list :  6\n"
     ]
    }
   ],
   "source": [
    "3.\n",
    "lst1 = [-5,10,25,34,0,7,-15,5,600]\n",
    "maximum = lst1[0]\n",
    "minimum = lst1[0]\n",
    "index_of_max=0\n",
    "index_of__min=0\n",
    "n = len(lst1)\n",
    "for i in range(n):\n",
    "    if(maximum<lst1[i]):\n",
    "        maximum=lst1[i]\n",
    "        index_of_max=i\n",
    "for i in range(n): \n",
    "    if(minimum>lst1[i]):\n",
    "        minimum=lst1[i]\n",
    "        index_of_min=i\n",
    "print(\"Maximum element index of list : \",index_of_max)\n",
    "print(\"Minimum element index of list : \",index_of_min)"
   ]
  },
  {
   "cell_type": "code",
   "execution_count": 11,
   "metadata": {},
   "outputs": [
    {
     "name": "stdout",
     "output_type": "stream",
     "text": [
      "Addition of two integer list :  [7, 9, 11, 13, 15]\n"
     ]
    }
   ],
   "source": [
    "4.\n",
    "from operator import add \n",
    "result=[]\n",
    "lst3=[1,2,3,4,5]\n",
    "lst4=[6,7,8,9,10]\n",
    "if(len(lst3)==len(lst4)):\n",
    "    result = list(map(add,lst3,lst4))\n",
    "    print(\"Addition of two integer list : \",result)"
   ]
  },
  {
   "cell_type": "code",
   "execution_count": 6,
   "metadata": {},
   "outputs": [
    {
     "name": "stdout",
     "output_type": "stream",
     "text": [
      "new array :  [2, 5]\n"
     ]
    }
   ],
   "source": [
    "5.\n",
    "a =[7,1, 2, 3,9]\n",
    "b = [8,4, 5, 6,3]\n",
    "lst=[]\n",
    "for i in range(0,5):\n",
    "    if(i==2):\n",
    "        lst.append(a[i])\n",
    "        lst.append(b[i])\n",
    "print(\"new array : \",lst)"
   ]
  }
 ],
 "metadata": {
  "kernelspec": {
   "display_name": "Python 3",
   "language": "python",
   "name": "python3"
  },
  "language_info": {
   "codemirror_mode": {
    "name": "ipython",
    "version": 3
   },
   "file_extension": ".py",
   "mimetype": "text/x-python",
   "name": "python",
   "nbconvert_exporter": "python",
   "pygments_lexer": "ipython3",
   "version": "3.7.6"
  }
 },
 "nbformat": 4,
 "nbformat_minor": 4
}
