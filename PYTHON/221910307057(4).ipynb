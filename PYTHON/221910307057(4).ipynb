{
 "cells": [
  {
   "cell_type": "code",
   "execution_count": 5,
   "metadata": {},
   "outputs": [
    {
     "name": "stdout",
     "output_type": "stream",
     "text": [
      "Enter a string : hello world how are you\n",
      "Number of words in the string: 5\n"
     ]
    }
   ],
   "source": [
    "1.\n",
    "def number_of_words(string):\n",
    "    word=1\n",
    "    for i in string:\n",
    "        if(i==' '):\n",
    "            word=word+1\n",
    "    return word\n",
    "string = input(\"Enter a string : \")\n",
    "print(\"Number of words in the string:\",number_of_words(string))"
   ]
  },
  {
   "cell_type": "code",
   "execution_count": 27,
   "metadata": {},
   "outputs": [
    {
     "name": "stdout",
     "output_type": "stream",
     "text": [
      "Enter a string : hello\n",
      "h#llo$$$\n"
     ]
    }
   ],
   "source": [
    "2.\n",
    "def new_string(str):\n",
    "    str1=\"\"\n",
    "    str1 = str[0:1] + \"#\" + str[2:] + \"$$$\"\n",
    "    print(str1)\n",
    "str =input(\"Enter a string : \")\n",
    "new_string(str)"
   ]
  },
  {
   "cell_type": "code",
   "execution_count": 32,
   "metadata": {},
   "outputs": [
    {
     "name": "stdout",
     "output_type": "stream",
     "text": [
      "Enter a string:malay\n",
      "The word is: malay\n",
      "The reversed string is: yalam\n",
      "The given word is not a palidrome\n"
     ]
    }
   ],
   "source": [
    "3.\n",
    "def palidrome():\n",
    "    str2=str1[::-1]\n",
    "    print(\"The reversed string is:\",str2)\n",
    "    if str2==str1:\n",
    "        print(\"The given word is palidrome\")\n",
    "    else:\n",
    "        print(\"The given word is not a palidrome\")\n",
    "str1=input(\"Enter a string:\")\n",
    "print(\"The word is:\",str1)\n",
    "palidrome()"
   ]
  },
  {
   "cell_type": "code",
   "execution_count": 35,
   "metadata": {},
   "outputs": [
    {
     "name": "stdout",
     "output_type": "stream",
     "text": [
      "Enter string1 : hello\n",
      "Enter string2 : world\n",
      "hweolrllod\n"
     ]
    }
   ],
   "source": [
    "4.\n",
    "def length(string1,string2):\n",
    "    if(len(string1)==len(string2)):\n",
    "        str=\"\"\n",
    "        for i in range(len(str1)):\n",
    "            str+=string1[i]\n",
    "            str+=string2[i]\n",
    "        print(str)\n",
    "    else:\n",
    "        print(\"Enter valid string\")\n",
    "string1 = input(\"Enter string1 : \")\n",
    "string2 = input(\"Enter string2 : \")\n",
    "length(string1,string2)"
   ]
  },
  {
   "cell_type": "code",
   "execution_count": 36,
   "metadata": {},
   "outputs": [
    {
     "name": "stdout",
     "output_type": "stream",
     "text": [
      "Enter a string :gitamhyderabad\n",
      "gtmyeaaiahdrbd\n"
     ]
    }
   ],
   "source": [
    "5.\n",
    "str = input(\"Enter a string :\")\n",
    "str1 = str[:: 2]\n",
    "str2 = str[1:: 2]\n",
    "string = str1 +str2\n",
    "print(string)"
   ]
  },
  {
   "cell_type": "code",
   "execution_count": null,
   "metadata": {},
   "outputs": [],
   "source": []
  }
 ],
 "metadata": {
  "kernelspec": {
   "display_name": "Python 3",
   "language": "python",
   "name": "python3"
  },
  "language_info": {
   "codemirror_mode": {
    "name": "ipython",
    "version": 3
   },
   "file_extension": ".py",
   "mimetype": "text/x-python",
   "name": "python",
   "nbconvert_exporter": "python",
   "pygments_lexer": "ipython3",
   "version": "3.7.6"
  }
 },
 "nbformat": 4,
 "nbformat_minor": 4
}
