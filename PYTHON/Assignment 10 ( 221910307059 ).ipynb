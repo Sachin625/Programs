{
 "cells": [
  {
   "cell_type": "markdown",
   "metadata": {},
   "source": [
    "### A file called class_scores.txt, where each line of the file contains a one word username and a test score separated by spaces, like below:.\n",
    "GWashington 83\n",
    "JAdams 86\n",
    "Ram 90\n",
    "Shyam 40\n",
    "Seetha 50"
   ]
  },
  {
   "cell_type": "code",
   "execution_count": 36,
   "metadata": {},
   "outputs": [],
   "source": [
    "fp=open(\"class_scores.txt\",\"x\")\n",
    "fp.close()"
   ]
  },
  {
   "cell_type": "code",
   "execution_count": 39,
   "metadata": {},
   "outputs": [],
   "source": [
    "fp=open(\"class_scores.txt\",\"w\")\n",
    "fp.write(\"GWashington 83\\n JAdams 86\\n Ram 90\\nShyam 40\\nSeetha 50\")\n",
    "fp.close()"
   ]
  },
  {
   "cell_type": "code",
   "execution_count": 41,
   "metadata": {},
   "outputs": [
    {
     "data": {
      "text/plain": [
       "['GWashington 83\\n', ' JAdams 86\\n', ' Ram 90\\n', 'Shyam 40\\n', 'Seetha 50']"
      ]
     },
     "execution_count": 41,
     "metadata": {},
     "output_type": "execute_result"
    }
   ],
   "source": [
    "fp=open(\"class_scores.txt\",\"r\")\n",
    "fp.readlines()"
   ]
  },
  {
   "cell_type": "markdown",
   "metadata": {},
   "source": [
    "### Question 1 : Print the contents of the file"
   ]
  },
  {
   "cell_type": "code",
   "execution_count": 38,
   "metadata": {},
   "outputs": [
    {
     "name": "stdout",
     "output_type": "stream",
     "text": [
      "GWashington 83\n",
      "\n",
      " JAdams 86\n",
      "\n",
      " Ram 90\n",
      "\n",
      "Shyam 40\n",
      "\n",
      "Seetha 50\n"
     ]
    }
   ],
   "source": [
    "fp=open(\"class_scores.txt\",\"r\")\n",
    "for lines in fp:\n",
    "    print(lines)\n",
    "fp.close()"
   ]
  },
  {
   "cell_type": "markdown",
   "metadata": {},
   "source": [
    "### Question 2 : Print only the username as a list"
   ]
  },
  {
   "cell_type": "code",
   "execution_count": 46,
   "metadata": {},
   "outputs": [
    {
     "name": "stdout",
     "output_type": "stream",
     "text": [
      "Username: ['GWashington', 'JAdams', 'Ram', 'Shyam', 'Seetha']\n"
     ]
    }
   ],
   "source": [
    "fp=open(\"class_scores.txt\",\"r\")\n",
    "names = []\n",
    "for line in fp:\n",
    "    line = line.split()\n",
    "    names.append(line[0])\n",
    "print('Username:',names)\n",
    "fp.close()"
   ]
  },
  {
   "cell_type": "markdown",
   "metadata": {},
   "source": [
    "### Question 3 : Print only the scores as a list"
   ]
  },
  {
   "cell_type": "code",
   "execution_count": 47,
   "metadata": {},
   "outputs": [
    {
     "name": "stdout",
     "output_type": "stream",
     "text": [
      "Marks: [83, 86, 90, 40, 50]\n"
     ]
    }
   ],
   "source": [
    "fp=open(\"class_scores.txt\",\"r\")\n",
    "scores=[]\n",
    "for line in fp:\n",
    "    line = line.split()\n",
    "    scores.append(int(line[1]))\n",
    "print('Marks:',scores)\n",
    "fp.close()"
   ]
  },
  {
   "cell_type": "markdown",
   "metadata": {},
   "source": [
    "### Question 4 : scan through the file and adds 5 points to each test score and output user names and test scores"
   ]
  },
  {
   "cell_type": "code",
   "execution_count": 49,
   "metadata": {},
   "outputs": [
    {
     "name": "stdout",
     "output_type": "stream",
     "text": [
      "GWashington 88\n",
      "\n",
      "JAdams 91\n",
      "\n",
      "Ram 95\n",
      "\n",
      "Shyam 45\n",
      "\n",
      "Seetha 55\n",
      "\n"
     ]
    }
   ],
   "source": [
    "fp=open(\"class_scores.txt\",\"r\")\n",
    "updated_List = []\n",
    "for line in fp:\n",
    "    line = line.split()\n",
    "    updated_List.append(line[0]+' '+str(int(line[1])+5)+'\\n')\n",
    "for lines in updated_List:\n",
    "    print(lines)"
   ]
  },
  {
   "cell_type": "markdown",
   "metadata": {},
   "source": [
    "### Question 5 : Write the new contents to new file score.txt"
   ]
  },
  {
   "cell_type": "code",
   "execution_count": 50,
   "metadata": {},
   "outputs": [],
   "source": [
    "fp=open(\"class_scores.txt\",\"w+\")\n",
    "fp.writelines(updated_List)"
   ]
  },
  {
   "cell_type": "code",
   "execution_count": 51,
   "metadata": {},
   "outputs": [
    {
     "name": "stdout",
     "output_type": "stream",
     "text": [
      "GWashington 88\n",
      "\n",
      "JAdams 91\n",
      "\n",
      "Ram 95\n",
      "\n",
      "Shyam 45\n",
      "\n",
      "Seetha 55\n",
      "\n"
     ]
    }
   ],
   "source": [
    "fp=open(\"class_scores.txt\",\"r\")\n",
    "for lines in fp:\n",
    "    print(lines)"
   ]
  }
 ],
 "metadata": {
  "kernelspec": {
   "display_name": "Python 3",
   "language": "python",
   "name": "python3"
  },
  "language_info": {
   "codemirror_mode": {
    "name": "ipython",
    "version": 3
   },
   "file_extension": ".py",
   "mimetype": "text/x-python",
   "name": "python",
   "nbconvert_exporter": "python",
   "pygments_lexer": "ipython3",
   "version": "3.7.6"
  }
 },
 "nbformat": 4,
 "nbformat_minor": 4
}
