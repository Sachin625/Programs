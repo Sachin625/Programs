{
 "cells": [
  {
   "cell_type": "markdown",
   "metadata": {},
   "source": [
    "# Name: Veeramalla Sachin\n",
    "# Pin: 221910307059"
   ]
  },
  {
   "cell_type": "markdown",
   "metadata": {},
   "source": [
    "### 1.Write a program that asks the user for a weight in kilograms and converts it to pounds. There are 2.2 pounds in a kilogram."
   ]
  },
  {
   "cell_type": "code",
   "execution_count": 2,
   "metadata": {},
   "outputs": [
    {
     "name": "stdout",
     "output_type": "stream",
     "text": [
      "Weight in kilograms : 1.56\n",
      "Weight in pounds is  3.4320000000000004\n"
     ]
    }
   ],
   "source": [
    "a=float(input(\"Weight in kilograms : \"))\n",
    "b=a*2.2\n",
    "print(\"Weight in pounds is \",b)"
   ]
  },
  {
   "cell_type": "markdown",
   "metadata": {},
   "source": [
    "### 2.Write a program that asks the user to enter three numbers (use three separate input statements).Create variables called total and average that hold the sum and average of the three numbers and print out the values of total and average."
   ]
  },
  {
   "cell_type": "code",
   "execution_count": 38,
   "metadata": {},
   "outputs": [
    {
     "name": "stdout",
     "output_type": "stream",
     "text": [
      "Enter first number :4\n",
      "Enter second number :2.4\n",
      "Enter third number :7.123456\n",
      "total = 13.523456 average =  4.507818666666666\n"
     ]
    }
   ],
   "source": [
    "a=eval(input(\"Enter first number :\"))\n",
    "b=eval(input(\"Enter second number :\"))\n",
    "c=eval(input(\"Enter third number :\"))\n",
    "total = a+b+c\n",
    "average=total/3\n",
    "print(\"total =\" ,total, \"average = \" ,average)"
   ]
  },
  {
   "cell_type": "markdown",
   "metadata": {},
   "source": [
    "### 3.Ask the user to enter a number x. Use the sep optional argument to print out x, 2x, 3x, 4x and 5x, each separated by three dashes, like below.\n",
    "\n",
    "Enter a number: 7\n",
    "\n",
    "7---14---21---28---35"
   ]
  },
  {
   "cell_type": "code",
   "execution_count": 8,
   "metadata": {},
   "outputs": [
    {
     "name": "stdout",
     "output_type": "stream",
     "text": [
      "Enter a number7\n",
      "7---14---21---28---35\n"
     ]
    }
   ],
   "source": [
    "a=int(input(\"Enter a number\"))\n",
    "print(a*1,a*2,a*3,a*4,a*5, sep = \"---\")"
   ]
  },
  {
   "cell_type": "markdown",
   "metadata": {},
   "source": [
    "### 4. Write a program that asks the user to enter two numbers, x and y, and computes |x-y|/x+y"
   ]
  },
  {
   "cell_type": "code",
   "execution_count": 3,
   "metadata": {},
   "outputs": [
    {
     "name": "stdout",
     "output_type": "stream",
     "text": [
      "Enter value of x :5\n",
      "Enter value of y :-7\n",
      "|x-y|/x+y = -6.0\n"
     ]
    }
   ],
   "source": [
    "x=float(input(\"Enter value of x :\"))\n",
    "y=float(input(\"Enter value of y :\"))\n",
    "z =(abs(x-y))/(x+y)\n",
    "print(\"|x-y|/x+y =\" ,z)"
   ]
  },
  {
   "cell_type": "markdown",
   "metadata": {},
   "source": [
    "### 5. Write a program that asks the user for a number of seconds and prints out how many minutesand seconds that is. For instance, 200 seconds is 3 minutes and 20 seconds.\n",
    "[Hint:Use the //operator to get minutes and the % operator to get seconds.]"
   ]
  },
  {
   "cell_type": "code",
   "execution_count": 49,
   "metadata": {},
   "outputs": [
    {
     "name": "stdout",
     "output_type": "stream",
     "text": [
      "Enter number of seconds : 200\n",
      "200 seconds is 3 minutes and 20 seconds\n"
     ]
    }
   ],
   "source": [
    "a=int(input(\"Enter number of seconds : \"))\n",
    "minutes=a//60\n",
    "seconds= a%60\n",
    "print(a,\"seconds is\",minutes,\"minutes\",\"and\",seconds,\"seconds\")"
   ]
  },
  {
   "cell_type": "code",
   "execution_count": null,
   "metadata": {},
   "outputs": [],
   "source": []
  }
 ],
 "metadata": {
  "kernelspec": {
   "display_name": "Python 3",
   "language": "python",
   "name": "python3"
  },
  "language_info": {
   "codemirror_mode": {
    "name": "ipython",
    "version": 3
   },
   "file_extension": ".py",
   "mimetype": "text/x-python",
   "name": "python",
   "nbconvert_exporter": "python",
   "pygments_lexer": "ipython3",
   "version": "3.7.6"
  }
 },
 "nbformat": 4,
 "nbformat_minor": 4
}
