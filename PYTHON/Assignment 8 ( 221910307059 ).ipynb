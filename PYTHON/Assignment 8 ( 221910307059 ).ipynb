{
 "cells": [
  {
   "cell_type": "markdown",
   "metadata": {},
   "source": [
    "### Name : Veeramalla Sachin\n",
    "### Pin  : 221910307059"
   ]
  },
  {
   "cell_type": "markdown",
   "metadata": {},
   "source": [
    "### Question 1 : Write a program to convert the given tuple into dictionary. Make the index of tuple as key and element of tuple as value in dictionary."
   ]
  },
  {
   "cell_type": "code",
   "execution_count": 9,
   "metadata": {},
   "outputs": [
    {
     "name": "stdout",
     "output_type": "stream",
     "text": [
      "Enter elements of a list : 12.5 'hello' 34 'world' 3.1414 600 'x'\n",
      "Elements of list :  [12.5, 'hello', 34, 'world', 3.1414, 600, 'x']\n",
      "Elements of tuple :  (12.5, 'hello', 34, 'world', 3.1414, 600, 'x')\n",
      "Elements of dictionary :  {0: 12.5, 1: 'hello', 2: 34, 3: 'world', 4: 3.1414, 5: 600, 6: 'x'}\n"
     ]
    }
   ],
   "source": [
    "lst = list(map(eval,input(\"Enter elements of a list : \").split()))\n",
    "print(\"Elements of list : \",lst)\n",
    "tup = tuple(lst)\n",
    "print(\"Elements of tuple : \",tup)\n",
    "dictionary={}\n",
    "for i in range(len(tup)):\n",
    "    dictionary[i]=tup[i]\n",
    "print(\"Elements of dictionary : \",dictionary)"
   ]
  },
  {
   "cell_type": "markdown",
   "metadata": {},
   "source": [
    "### Question 2 : Write a program that repeatedly asks the user to enter student roll number and marks. Store all of these in a dictionary whose keys are the roll numbers and whose values are the marks. Display all the students roll number and marks for those who got greater than 70 marks"
   ]
  },
  {
   "cell_type": "code",
   "execution_count": 11,
   "metadata": {},
   "outputs": [
    {
     "name": "stdout",
     "output_type": "stream",
     "text": [
      "enter no of students in the class : 5\n",
      "enter roll number of student: 1\n",
      "enter the marks marks: 65\n",
      "enter roll number of student: 2\n",
      "enter the marks marks: 80\n",
      "enter roll number of student: 3\n",
      "enter the marks marks: 47\n",
      "enter roll number of student: 4\n",
      "enter the marks marks: 90\n",
      "enter roll number of student: 5\n",
      "enter the marks marks: 58\n",
      "Elements of dictionary :  {1: 65, 2: 80, 3: 47, 4: 90, 5: 58}\n",
      "roll no: 2 has got  80  marks\n",
      "roll no: 4 has got  90  marks\n"
     ]
    }
   ],
   "source": [
    "n=int(input(\"enter no of students in the class : \"))\n",
    "d={}\n",
    "for i in range(0,n):\n",
    "    roll_no=int(input(\"enter roll number of student: \"))\n",
    "    marks=int(input(\"enter the marks marks: \"))\n",
    "    d[roll_no]=marks\n",
    "print(\"Elements of dictionary : \",d)    \n",
    "for j in d.keys():\n",
    "    if d[j]>70:\n",
    "        print(\"roll no:\",j,\"has got \",d[j],\" marks\")"
   ]
  },
  {
   "cell_type": "markdown",
   "metadata": {},
   "source": [
    "### Question 3 : In the above problem remove the students who got less than 40 marks from the dictionary."
   ]
  },
  {
   "cell_type": "code",
   "execution_count": 14,
   "metadata": {},
   "outputs": [
    {
     "name": "stdout",
     "output_type": "stream",
     "text": [
      "enter no of students in the class : 5\n",
      "enter roll number of student: 1\n",
      "enter the marks marks: 38\n",
      "enter roll number of student: 2\n",
      "enter the marks marks: 60\n",
      "enter roll number of student: 3\n",
      "enter the marks marks: 35\n",
      "enter roll number of student: 4\n",
      "enter the marks marks: 70\n",
      "enter roll number of student: 5\n",
      "enter the marks marks: 85\n",
      "Elements of dictionary after removing students who scored less than 40 :  {2: 60, 4: 70, 5: 85}\n"
     ]
    }
   ],
   "source": [
    "n=int(input(\"enter no of students in the class : \"))\n",
    "d={}\n",
    "lst=[]\n",
    "for i in range(0,n):\n",
    "    roll_no=int(input(\"enter roll number of student: \"))\n",
    "    marks=int(input(\"enter the marks marks: \"))\n",
    "    d[roll_no]=marks\n",
    "for j in d.keys():\n",
    "    if d[j]<40:\n",
    "        lst.append(j)\n",
    "for key in lst:\n",
    "    if key in d.keys():\n",
    "        d.pop(key)\n",
    "print(\"Elements of dictionary after removing students who scored less than 40 : \",d)"
   ]
  },
  {
   "cell_type": "markdown",
   "metadata": {},
   "source": [
    "### Question 4 : In problem 2, find all the students who got highest marks.\n",
    "Example:\n",
    "Input: {101:90, 102: 80, 103: 85, 104:90, 105:90}\n",
    "Output: 101,104,105"
   ]
  },
  {
   "cell_type": "code",
   "execution_count": 23,
   "metadata": {},
   "outputs": [
    {
     "name": "stdout",
     "output_type": "stream",
     "text": [
      "enter no of students in the class : 5\n",
      "enter roll number of student: 1\n",
      "enter the marks marks: 90\n",
      "enter roll number of student: 2\n",
      "enter the marks marks: 92\n",
      "enter roll number of student: 3\n",
      "enter the marks marks: 95\n",
      "enter roll number of student: 4\n",
      "enter the marks marks: 95\n",
      "enter roll number of student: 5\n",
      "enter the marks marks: 93\n",
      "The roll numbers with highest marks are :  [3, 4]\n"
     ]
    }
   ],
   "source": [
    "n=int(input(\"enter no of students in the class : \"))\n",
    "d={}\n",
    "result=[]\n",
    "for i in range(0,n):\n",
    "    roll_no=eval(input(\"enter roll number of student: \"))\n",
    "    marks=eval(input(\"enter the marks marks: \"))\n",
    "    d[roll_no]=marks\n",
    "maximum=0\n",
    "for i in d.keys():\n",
    "    if maximum<d[i]:\n",
    "        maximum=d[i]\n",
    "for i in d.keys():\n",
    "    if maximum==d[i]:\n",
    "        result.append(i,d.keys)\n",
    "print(\"The roll numbers with highest marks are : \",result)"
   ]
  },
  {
   "cell_type": "markdown",
   "metadata": {},
   "source": [
    "### Question 5 : Create a dictionary whose keys are month names and whose values are the number of days in the corresponding months. Print out all the (key-value) pairs sorted by the number of days in each month"
   ]
  },
  {
   "cell_type": "code",
   "execution_count": 24,
   "metadata": {},
   "outputs": [
    {
     "name": "stdout",
     "output_type": "stream",
     "text": [
      "[('February', 28), ('April', 30), ('June', 30), ('September', 30), ('November', 30), ('January', 31), ('March', 31), ('May', 31), ('July', 31), ('August', 31), ('October', 31), ('December', 31)]\n"
     ]
    }
   ],
   "source": [
    "dictionary={\"January\":31,\"February\":28,\"March\":31,\"April\":30,\"May\":31,\"June\":30,\"July\":31,\"August\":31,\"September\":30,\"October\":31,\"November\":30,\"December\":31}\n",
    "lst1=dictionary.items()\n",
    "lst2=sorted(lst1,key=lambda a: a[1])\n",
    "print(lst2)"
   ]
  }
 ],
 "metadata": {
  "kernelspec": {
   "display_name": "Python 3",
   "language": "python",
   "name": "python3"
  },
  "language_info": {
   "codemirror_mode": {
    "name": "ipython",
    "version": 3
   },
   "file_extension": ".py",
   "mimetype": "text/x-python",
   "name": "python",
   "nbconvert_exporter": "python",
   "pygments_lexer": "ipython3",
   "version": "3.7.6"
  }
 },
 "nbformat": 4,
 "nbformat_minor": 4
}
