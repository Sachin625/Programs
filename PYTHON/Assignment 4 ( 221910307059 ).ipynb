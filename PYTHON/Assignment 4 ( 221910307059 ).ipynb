{
 "cells": [
  {
   "cell_type": "markdown",
   "metadata": {},
   "source": [
    "### Name : Veermalla Sachin\n",
    "### Pin. : 221910307059"
   ]
  },
  {
   "cell_type": "markdown",
   "metadata": {},
   "source": [
    "### Question 1 : Write a function that accepts a string and returns number of words in a string."
   ]
  },
  {
   "cell_type": "code",
   "execution_count": 33,
   "metadata": {},
   "outputs": [
    {
     "name": "stdout",
     "output_type": "stream",
     "text": [
      "Enter a string : sachin\n",
      "Length of a string :  6\n"
     ]
    }
   ],
   "source": [
    "def len(str):\n",
    "    count=0\n",
    "    for i  in str:\n",
    "        count+=1\n",
    "    return count\n",
    "str = input(\"Enter a string : \")\n",
    "print(\"Length of a string : \",len(str))"
   ]
  },
  {
   "cell_type": "markdown",
   "metadata": {},
   "source": [
    "### Question 2 : Write a function that accepts a string. The function should create a new string called new_string from the user’s string such that the second character is changed to an &#39;#&#39; and three $ \n",
    "are attached to the end of the string. Finally, print new_string.\n",
    "Enter your string: Hello\n",
    "new_string: H#llo$$$"
   ]
  },
  {
   "cell_type": "code",
   "execution_count": 16,
   "metadata": {},
   "outputs": [
    {
     "name": "stdout",
     "output_type": "stream",
     "text": [
      "Enter a string : hello\n",
      "h#llo$$$\n"
     ]
    }
   ],
   "source": [
    "def new_string(str):\n",
    "    str1=\"\"\n",
    "    str1 = str[0:1] + \"#\" + str[2:] + \"$$$\"\n",
    "    print(str1)\n",
    "str =input(\"Enter a string : \")\n",
    "new_string(str)"
   ]
  },
  {
   "cell_type": "markdown",
   "metadata": {},
   "source": [
    "### Question 3 : Write a user defined function that accepts a word and determines whether the word is a palindrome or not. A palindrome is a word that reads the same backwards as forwards.\n",
    "(example: madam)"
   ]
  },
  {
   "cell_type": "code",
   "execution_count": 32,
   "metadata": {},
   "outputs": [
    {
     "name": "stdout",
     "output_type": "stream",
     "text": [
      "Enter a string :hello\n",
      "The string is not a palindrome\n"
     ]
    }
   ],
   "source": [
    "def str_palin(str):\n",
    "    if(str == str[:: -1]): \n",
    "        print(\"The string is a palindrome\")\n",
    "    else:\n",
    "        print(\"The string is not a palindrome\")       \n",
    "str = input(\"Enter a string :\")\n",
    "str_palin(str)"
   ]
  },
  {
   "cell_type": "markdown",
   "metadata": {},
   "source": [
    "### Question 4 : Write a function that takes two strings of the same length. The program should then check to see if the strings are of the same length. If they are not, the programshould print an appropriate message and exit. If they are of the same length, the program should alternate the characters of the two strings.\n",
    "For example, if the user enters HELLO and GITAM the function should print out HGEILTLAOM"
   ]
  },
  {
   "cell_type": "code",
   "execution_count": 3,
   "metadata": {},
   "outputs": [
    {
     "name": "stdout",
     "output_type": "stream",
     "text": [
      "Enter string1 : hello\n",
      "Enter string2 : world\n",
      "hweolrllod\n"
     ]
    }
   ],
   "source": [
    "def len_check(str1,str2):\n",
    "    if(len(str1)==len(str2)):\n",
    "        str=\"\"\n",
    "        for i in range(len(str1)):\n",
    "            str+=str1[i]\n",
    "            str+=str2[i]\n",
    "        print(str)\n",
    "    else:\n",
    "        print(\"Enter valid string\")\n",
    "str1 = input(\"Enter string1 : \")\n",
    "str2 = input(\"Enter string2 : \")\n",
    "len_check(str1,str2)\n",
    "        \n",
    "    "
   ]
  },
  {
   "cell_type": "markdown",
   "metadata": {},
   "source": [
    "### Question 5 : A simple way of encrypting a message is to rearrange its characters. One way to rearrange the characters is to pick out the characters at even indices, put them first in the encrypted string, and follow them by the odd characters.\n",
    "For example, the string WELCOME would be encrypted as WLOEECM because the even\n",
    "characters are W,L,O,E (at indices 0, 2, 4, and 6) and the odd characters are E,C,M (at indices 1, 3,\n",
    "and 5).\n",
    "Write a function that accepts a string and uses this method to encrypt the string."
   ]
  },
  {
   "cell_type": "code",
   "execution_count": 3,
   "metadata": {},
   "outputs": [
    {
     "name": "stdout",
     "output_type": "stream",
     "text": [
      "Enter a string :WELCOME\n",
      "WLOEECM\n"
     ]
    }
   ],
   "source": [
    "str = input(\"Enter a string :\")\n",
    "str1 = str[:: 2]\n",
    "str2 = str[1:: 2]\n",
    "string = str1 +str2\n",
    "print(string)"
   ]
  }
 ],
 "metadata": {
  "kernelspec": {
   "display_name": "Python 3",
   "language": "python",
   "name": "python3"
  },
  "language_info": {
   "codemirror_mode": {
    "name": "ipython",
    "version": 3
   },
   "file_extension": ".py",
   "mimetype": "text/x-python",
   "name": "python",
   "nbconvert_exporter": "python",
   "pygments_lexer": "ipython3",
   "version": "3.7.6"
  }
 },
 "nbformat": 4,
 "nbformat_minor": 4
}
