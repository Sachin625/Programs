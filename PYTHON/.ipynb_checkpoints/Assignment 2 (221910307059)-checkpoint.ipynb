{
 "cells": [
  {
   "cell_type": "markdown",
   "metadata": {},
   "source": [
    "### Question 1 :Write a program to read  2 integer values, return True if one is negative and one is positive otherwise return False. "
   ]
  },
  {
   "cell_type": "code",
   "execution_count": 4,
   "metadata": {},
   "outputs": [
    {
     "name": "stdout",
     "output_type": "stream",
     "text": [
      "Enter First number : 4\n",
      "Enter Second number-3\n",
      "True\n"
     ]
    }
   ],
   "source": [
    "num1 = int(input(\"Enter First number : \"))\n",
    "num2 = int(input(\"Enter Second number\"))\n",
    "if ((num1>0 or num2>0) and (num1<0 or num2<0)):\n",
    "    print(\"True\")\n",
    "else:\n",
    "    print(\"False\")\n"
   ]
  },
  {
   "attachments": {},
   "cell_type": "markdown",
   "metadata": {},
   "source": [
    "### Question 2 : Write a python program to input 5 subject marks and calculate total marks, percentage and grade based on following criteria\n",
    "i)percentage less than 50 (Grade C)                       \n",
    "ii)percentage equal to 50 and less than 80 (Grade B)\n",
    "iii)percentage equal to 80 and more than 80 (Grade A)"
   ]
  },
  {
   "cell_type": "code",
   "execution_count": null,
   "metadata": {},
   "outputs": [],
   "source": [
    "total = 0\n",
    "for marks in range(0,5):\n",
    "    marks = int(input(\"Enter marks :\"))\n",
    "    total += marks\n",
    "print(\"total :\", total, \"Percentage: \",(total/5))"
   ]
  },
  {
   "cell_type": "code",
   "execution_count": null,
   "metadata": {},
   "outputs": [],
   "source": []
  }
 ],
 "metadata": {
  "kernelspec": {
   "display_name": "Python 3",
   "language": "python",
   "name": "python3"
  },
  "language_info": {
   "codemirror_mode": {
    "name": "ipython",
    "version": 3
   },
   "file_extension": ".py",
   "mimetype": "text/x-python",
   "name": "python",
   "nbconvert_exporter": "python",
   "pygments_lexer": "ipython3",
   "version": "3.7.6"
  }
 },
 "nbformat": 4,
 "nbformat_minor": 4
}
