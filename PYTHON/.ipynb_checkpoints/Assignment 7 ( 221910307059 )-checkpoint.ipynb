{
 "cells": [
  {
   "cell_type": "markdown",
   "metadata": {},
   "source": [
    "### Name : Veeramalla Sachin\n",
    "### Pin  : 221910307059"
   ]
  },
  {
   "cell_type": "markdown",
   "metadata": {},
   "source": [
    "### Question 1 : Write a Python program to create a tuple with different data types."
   ]
  },
  {
   "cell_type": "code",
   "execution_count": 112,
   "metadata": {},
   "outputs": [
    {
     "name": "stdout",
     "output_type": "stream",
     "text": [
      "Enter number of elements to be read:2\n",
      "Enter element:True\n",
      "Enter element:Falsr\n",
      "The list based on given inputs: ['True', 'Falsr']\n",
      "Elemets in tuple :  ('True', 'Falsr')\n"
     ]
    }
   ],
   "source": [
    "def lst(n):\n",
    "    lst1=[]\n",
    "    for i in range(n):\n",
    "        x=(input(\"Enter element:\"))\n",
    "        if x.isnumeric():\n",
    "            x=int(x)\n",
    "            lst1.append(x)\n",
    "        elif x.isalpha():\n",
    "            x=str(x)\n",
    "            lst1.append(x)\n",
    "        else:\n",
    "            x=float(x)\n",
    "            lst1.append(x)\n",
    "    return lst1\n",
    "n=int(input(\"Enter number of elements to be read:\"))\n",
    "lst3 = lst(n)\n",
    "print(\"The list based on given inputs:\",lst3)\n",
    "print(\"Elemets in tuple : \",tuple(lst3))"
   ]
  },
  {
   "cell_type": "markdown",
   "metadata": {},
   "source": [
    "### Question 2 : Write a Python program to replace last value of tuples in a list\n",
    "input: [(1, 2, 4), (4, 5, 6), (7, 8, 9)]\n",
    "\n",
    "Output: [(1, 2, 10), (4, 5, 10), (7, 8, 10)]"
   ]
  },
  {
   "cell_type": "code",
   "execution_count": 84,
   "metadata": {},
   "outputs": [
    {
     "name": "stdout",
     "output_type": "stream",
     "text": [
      "enter no of rows : 3\n",
      "Enter elements of tuple : 1 2 3 4 5\n",
      "Enter elements of tuple : 2 3 4 5 6\n",
      "Enter elements of tuple : 3 4 5 6 7\n",
      "Enter a number to replace : 8\n",
      "[(1, 2, 3, 4, 8), (2, 3, 4, 5, 8), (3, 4, 5, 6, 8)]\n"
     ]
    }
   ],
   "source": [
    "t = list(tuple(map(int,input(\"Enter elements of tuple : \").split())) for r in range(int(input('enter no of rows : ')))) \n",
    "replace = int(input(\"Enter a number to replace : \"))\n",
    "print([l[:-1] + (replace,) for l in t])"
   ]
  },
  {
   "cell_type": "markdown",
   "metadata": {},
   "source": [
    "### Write a Python program to sort a tuple by its float element( descending)\n",
    "Input: [(&#39;a&#39;, &#39;12.20&#39;), (&#39;b&#39;, &#39;15.10&#39;), (&#39;c&#39;, &#39;24.5&#39;)]\n",
    "Output: [(&#39;c&#39;, &#39;24.5&#39;), (&#39;b&#39;, &#39;15.10&#39;), (&#39;a&#39;, &#39;12.20&#39;)]"
   ]
  },
  {
   "cell_type": "code",
   "execution_count": 111,
   "metadata": {},
   "outputs": [
    {
     "name": "stdout",
     "output_type": "stream",
     "text": [
      "enter no of rows : 3\n",
      "Enter elements of tuple : 'a' 12.20\n",
      "Enter elements of tuple : 'b' 15.10\n",
      "Enter elements of tuple : 'c' 24.5\n",
      "Orginal list :  [('a', 12.2), ('b', 15.1), ('c', 24.5)]\n",
      "Sorted list :  [('c', 24.5), ('b', 15.1), ('a', 12.2)]\n"
     ]
    }
   ],
   "source": [
    "t = list(tuple(map(eval,input(\"Enter elements of tuple : \").split())) for r in range(int(input('enter no of rows : '))))\n",
    "print(\"Orginal list : \",t)\n",
    "z=sorted(t, key = lambda x: float(x[1]), reverse = True)\n",
    "print(\"Sorted list : \",z)"
   ]
  },
  {
   "cell_type": "markdown",
   "metadata": {},
   "source": [
    "### Question 4 : Given the string  colors = &quot;red,green,blue,yellow,pink&quot;convert the string to a list . create a tuple of tuples where each tuple has two information: the name of the color and the length of the color.\n",
    "((&quot;red&quot;,3),(&quot;green&quot;,5)(&quot;blue&quot;,4),(&quot;yellow&quot;,6),(&quot;pink&quot;,4))"
   ]
  },
  {
   "cell_type": "code",
   "execution_count": 102,
   "metadata": {},
   "outputs": [
    {
     "name": "stdout",
     "output_type": "stream",
     "text": [
      "Enter different colours with spaces :red yellow orange black blue green\n",
      "The required output: (('red', 3), ('yellow', 6), ('orange', 6), ('black', 5), ('blue', 4), ('green', 5))\n"
     ]
    }
   ],
   "source": [
    "string1=input(\"Enter different colours with spaces :\")\n",
    "lst=string1.split()\n",
    "lst1=[]\n",
    "for i in lst:\n",
    "    lst1.append((i,len(i)))\n",
    "lst1=tuple(lst1)\n",
    "print(\"The required output:\",lst1)"
   ]
  },
  {
   "cell_type": "markdown",
   "metadata": {},
   "source": [
    "### Question 5 : Given the string  S=&quot;apple|pear|apple|cherry|pear|apple|pear|pear|cherry|pear|strawberry&quot;. Store the elements separated by the &quot;|&quot; in a list.create another list where each element is a tuple containing the name of the fruit and its multiplicity (that is how many times it appears in the original list).\n",
    "list_of_tuples = [(“apple”, 3), (“pear”, “5”),…].Print the content of each tuple in a separate line\n",
    "Outpout :\n",
    "[&#39;apple&#39;, &#39;pear&#39;, &#39;apple&#39;, &#39;cherry&#39;, &#39;pear&#39;, &#39;apple&#39;, &#39;pear&#39;, &#39;pear&#39;, &#39;cherry&#39;, &#39;pear&#39;, &#39;strawberry&#39;]\n",
    "[(&#39;apple&#39;, 3), (&#39;pear&#39;, 5), (&#39;cherry&#39;, 2), (&#39;strawberry&#39;, 1)]\n",
    "apple is present 3 times\n",
    "pear is present 5 times\n",
    "cherry is present 2 times\n",
    "strawberry is present 1 times"
   ]
  },
  {
   "cell_type": "code",
   "execution_count": 113,
   "metadata": {},
   "outputs": [
    {
     "name": "stdout",
     "output_type": "stream",
     "text": [
      " Enter strings with | in between each string : apple|pear|apple|cherry|pear|apple|pear|pear|cherry|pear|strawberry\n",
      "output :  [('apple', 3), ('pear', 5), ('cherry', 2), ('strawberry', 1)]\n"
     ]
    }
   ],
   "source": [
    "string= input(\" Enter strings with | in between each string : \")\n",
    "lst = string.split('|')\n",
    "lst1 = []\n",
    "lst2=[]\n",
    "for i in lst:\n",
    "    if i not in lst2:\n",
    "        lst2.append(i)\n",
    "        lst1.append((i,lst.count(i)))\n",
    "res= tuple(lst1)\n",
    "print(\"output : \",list(res))"
   ]
  },
  {
   "cell_type": "code",
   "execution_count": null,
   "metadata": {},
   "outputs": [],
   "source": []
  }
 ],
 "metadata": {
  "kernelspec": {
   "display_name": "Python 3",
   "language": "python",
   "name": "python3"
  },
  "language_info": {
   "codemirror_mode": {
    "name": "ipython",
    "version": 3
   },
   "file_extension": ".py",
   "mimetype": "text/x-python",
   "name": "python",
   "nbconvert_exporter": "python",
   "pygments_lexer": "ipython3",
   "version": "3.7.6"
  }
 },
 "nbformat": 4,
 "nbformat_minor": 4
}
