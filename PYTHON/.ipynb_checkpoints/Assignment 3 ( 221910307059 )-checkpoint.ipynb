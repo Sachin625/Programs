{
 "cells": [
  {
   "cell_type": "markdown",
   "metadata": {},
   "source": [
    "### Name : Veeramalla Sachin\n",
    "### Pin  : 221910307059"
   ]
  },
  {
   "cell_type": "markdown",
   "metadata": {},
   "source": [
    "### Question 1 : Write a program to find all the numbers between 1 and 1000 that are divisible by 7 and end in 6"
   ]
  },
  {
   "cell_type": "code",
   "execution_count": 49,
   "metadata": {},
   "outputs": [
    {
     "name": "stdout",
     "output_type": "stream",
     "text": [
      "Numbers divisible by 7 and end in 6 in between 1 and 1000 :\n",
      "56\n",
      "126\n",
      "196\n",
      "266\n",
      "336\n",
      "406\n",
      "476\n",
      "546\n",
      "616\n",
      "686\n",
      "756\n",
      "826\n",
      "896\n",
      "966\n"
     ]
    }
   ],
   "source": [
    "print(\"Numbers divisible by 7 and end in 6 in between 1 and 1000 :\") \n",
    "def div_by_7():\n",
    "        for i in range(1,1001):\n",
    "            if(i%7==0 and i%10 == 6):\n",
    "                print(i)\n",
    "div_by_7()"
   ]
  },
  {
   "cell_type": "markdown",
   "metadata": {},
   "source": [
    "### Question 2 : Given a positive integer n find sum of first n palindromes"
   ]
  },
  {
   "cell_type": "code",
   "execution_count": 21,
   "metadata": {},
   "outputs": [
    {
     "name": "stdout",
     "output_type": "stream",
     "text": [
      "Enter a number :6\n",
      "Sum of first n palindromes : 21\n"
     ]
    }
   ],
   "source": [
    "def palin(a):\n",
    "    rev = 0\n",
    "    while(a>0):\n",
    "        rem=a%10\n",
    "        rev = rev*10+rem\n",
    "        a=a//10\n",
    "    return rev\n",
    "def sum_of_palindrome(n):\n",
    "    sum=0\n",
    "    for x in range(1,n+1):\n",
    "        y = palin(x)\n",
    "        if(y==x):\n",
    "            sum+=x\n",
    "    print('Sum of first n palindromes :',sum)\n",
    "number = int(input(\"Enter a number :\"))\n",
    "sum_of_palindrome(number)\n",
    "    "
   ]
  },
  {
   "cell_type": "markdown",
   "metadata": {},
   "source": [
    "### Question 3 : Write a program to find number of occurrences of digit 1, number of occurrences of digit 2 and number of occurrences of digit 3 in a given number.\n",
    "Example: Consider the number 12563431191.\n",
    "Number of occurrences of 1 is 4, 2 is 1, 3 is 2"
   ]
  },
  {
   "cell_type": "code",
   "execution_count": 26,
   "metadata": {},
   "outputs": [
    {
     "name": "stdout",
     "output_type": "stream",
     "text": [
      "Enter a number :13253632171234562\n",
      "Number of occurence of 1 : 3\n",
      "Number of occurence of 2 : 4\n",
      "Number of occurence of 3 : 4\n"
     ]
    }
   ],
   "source": [
    "def countOccurrances(n, d): \n",
    "    count = 0\n",
    "    while (n > 0): \n",
    "        if(n % 10 == d): \n",
    "            count = count + 1\n",
    "        n = n // 10\n",
    "    return count \n",
    "n = int(input(\"Enter a number :\"))\n",
    "for d in range(1,4):\n",
    "    print(\"Number of occurence of\",d,\":\",countOccurrances(n,d)) "
   ]
  },
  {
   "cell_type": "markdown",
   "metadata": {},
   "source": [
    "### Question 4 : Given integers x0, y0, x1, y1, and k, return whether the Euclidean distance between (x0,y0) and (x1,y1) is less than k.\n",
    "Example:\n",
    "Input: x0=0, y0=1, x1=3, y1=5, k=6\n",
    "Output: True\n",
    "Explanation: The Euclidian distance between (0,1) and (3,5) is\n",
    "Sqrt((3-0)**2 + (5-1) ** 2) = 5 which is less than 6"
   ]
  },
  {
   "cell_type": "code",
   "execution_count": 35,
   "metadata": {},
   "outputs": [
    {
     "name": "stdout",
     "output_type": "stream",
     "text": [
      "Enter the value of x0 coordinate : 3\n",
      "Enter the value of x1 coordinate : 4\n",
      "Enter the value of y0 coordinate : 3\n",
      "Enter the value of y1 coordinate : 4\n",
      "Enter the assumed distance between two points :1\n",
      "False\n"
     ]
    }
   ],
   "source": [
    "from math import sqrt\n",
    "def Euclidean_distance(x0,x1,y0,y1,k):\n",
    "    c=sqrt((x1-x0)**2 + (y1-y0)**2)\n",
    "    return k>=c\n",
    "x0=int(input(\"Enter the value of x0 coordinate : \"))\n",
    "x1=int(input(\"Enter the value of x1 coordinate : \"))\n",
    "y0=int(input(\"Enter the value of y0 coordinate : \"))\n",
    "y1=int(input(\"Enter the value of y1 coordinate : \"))\n",
    "k=int(input(\"Enter the assumed distance between two points :\"))\n",
    "print(Euclidean_distance(x0,x1,y0,y1,k))\n"
   ]
  },
  {
   "cell_type": "markdown",
   "metadata": {},
   "source": [
    "### Question 5 :The Fibonacci sequence goes like this 1, 1, 2, 3, 5, 8, 13, 21, 34........\n",
    "### Write a program that reads integer n and find the nth Fibonacci number.\n",
    "Example1:\n",
    "Input: n=1\n",
    "Output: 1\n",
    "Example 2:\n",
    "Input: n=7\n",
    "Output: 13"
   ]
  },
  {
   "cell_type": "code",
   "execution_count": 54,
   "metadata": {},
   "outputs": [
    {
     "name": "stdout",
     "output_type": "stream",
     "text": [
      "Enter value of n :10\n",
      "34\n"
     ]
    }
   ],
   "source": [
    "def fibonacci(n): \n",
    "    f1= 0\n",
    "    f2 = 1\n",
    "    if n < 0: \n",
    "        print(\"Incorrect input\") \n",
    "    elif n == 0: \n",
    "        return f1 \n",
    "    elif n == 1: \n",
    "        return f2 \n",
    "    else: \n",
    "        for i in range(2,n): \n",
    "            next = f1 + f2 \n",
    "            f1 = f2 \n",
    "            f2 = next \n",
    "        return f2  \n",
    "n=int(input(\"Enter value of n :\"))\n",
    "print(fibonacci(n)) "
   ]
  }
 ],
 "metadata": {
  "kernelspec": {
   "display_name": "Python 3",
   "language": "python",
   "name": "python3"
  },
  "language_info": {
   "codemirror_mode": {
    "name": "ipython",
    "version": 3
   },
   "file_extension": ".py",
   "mimetype": "text/x-python",
   "name": "python",
   "nbconvert_exporter": "python",
   "pygments_lexer": "ipython3",
   "version": "3.7.6"
  }
 },
 "nbformat": 4,
 "nbformat_minor": 4
}
