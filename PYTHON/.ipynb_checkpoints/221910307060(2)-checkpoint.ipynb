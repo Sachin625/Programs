{
 "cells": [
  {
   "cell_type": "markdown",
   "metadata": {},
   "source": [
    "### 1. Write a program to read 2 integer values, return True if one is negative and one is positive otherwise return False."
   ]
  },
  {
   "cell_type": "code",
   "execution_count": 7,
   "metadata": {},
   "outputs": [
    {
     "name": "stdout",
     "output_type": "stream",
     "text": [
      "Enter First number : 30\n",
      "Enter Second number :40\n",
      "False\n"
     ]
    }
   ],
   "source": [
    "number_1 = int(input(\"Enter First number : \"))\n",
    "number_2 = int(input(\"Enter Second number :\"))\n",
    "if ((number_1>0 or number_2>0) and (number_1<0 or number_2<0)):\n",
    "    print(\"True\")\n",
    "else:\n",
    "    print(\"False\")\n"
   ]
  },
  {
   "cell_type": "markdown",
   "metadata": {},
   "source": [
    "### 2. Write a python program to input 5 subject marks and calculate total marks, percentage and grade based on following criteria\n",
    "i)percentage less than 50 (Grade C)                       \n",
    "ii)percentage equal to 50 and less than 80 (Grade B)\n",
    "iii)percentage equal to 80 and more than 80 (Grade A)"
   ]
  },
  {
   "cell_type": "code",
   "execution_count": 8,
   "metadata": {},
   "outputs": [
    {
     "name": "stdout",
     "output_type": "stream",
     "text": [
      "Enter marks :60\n",
      "Enter marks :57\n",
      "Enter marks :75\n",
      "Enter marks :78\n",
      "Enter marks :85\n",
      "total : 355\n",
      "Percentage :  71.0\n",
      "Grade B\n"
     ]
    }
   ],
   "source": [
    "total=0\n",
    "for marks in range(0,5):\n",
    "    marks=int(input(\"Enter marks :\"))\n",
    "    total+=marks\n",
    "print(\"total :\", total)\n",
    "percentage = (total/500)*100\n",
    "print(\"Percentage : \",percentage)\n",
    "if percentage < 50:\n",
    "    print(\"Grade C\")\n",
    "elif percentage >=50 and percentage < 80:\n",
    "    print(\"Grade B\")\n",
    "else:\n",
    "    print(\"Grade A\")\n"
   ]
  },
  {
   "cell_type": "markdown",
   "metadata": {},
   "source": [
    "### 3. Write a program which will find all such numbers which are divisible by 5 but are not a multiple of 3, between 200 and 300(both included)."
   ]
  },
  {
   "cell_type": "code",
   "execution_count": 1,
   "metadata": {},
   "outputs": [
    {
     "name": "stdout",
     "output_type": "stream",
     "text": [
      "200\n",
      "205\n",
      "215\n",
      "220\n",
      "230\n",
      "235\n",
      "245\n",
      "250\n",
      "260\n",
      "265\n",
      "275\n",
      "280\n",
      "290\n",
      "295\n"
     ]
    }
   ],
   "source": [
    "i=200\n",
    "while(i<=300):\n",
    "    if((i%5==0) and (i%3!=0)):\n",
    "        print(i)\n",
    "    i+=1\n",
    "    "
   ]
  },
  {
   "cell_type": "markdown",
   "metadata": {},
   "source": [
    "### 4. Write a program for calculating the price of a product after adding the sales tax to its original price (read original price and sales tax values from user)."
   ]
  },
  {
   "cell_type": "code",
   "execution_count": 2,
   "metadata": {},
   "outputs": [
    {
     "name": "stdout",
     "output_type": "stream",
     "text": [
      "Enter the original cost of the product :200\n",
      "Enter sales tax applied on the product :40\n",
      "Final Price of a product :  240.0\n"
     ]
    }
   ],
   "source": [
    "price_of_product = float(input(\"Enter the original cost of the product :\"))\n",
    "sales_tax      = float(input(\"Enter sales tax applied on the product :\"))\n",
    "final_price = price_of_product + sales_tax\n",
    "print(\"Final Price of a product : \",final_price)"
   ]
  },
  {
   "cell_type": "markdown",
   "metadata": {},
   "source": [
    "### 5. Write a program to calculate the weekly wages of an employee. The pay depends on wages per hour and the number of hours worked per day. Moreover, if the employee has worked for more than 30 hours, then he or she gets twice the wages per hour, for every extra hour that he or she has worked.\n"
   ]
  },
  {
   "cell_type": "code",
   "execution_count": 6,
   "metadata": {},
   "outputs": [
    {
     "name": "stdout",
     "output_type": "stream",
     "text": [
      "Enter wage earned per hour : 60\n",
      "Enter number of hours worked :37\n",
      "Total wage per week : 2640.0\n"
     ]
    }
   ],
   "source": [
    "wage_per_hour = float(input(\"Enter wage earned per hour : \"))\n",
    "hours_worked = int(input(\"Enter number of hours worked :\"))\n",
    "if(hours_worked <=30):\n",
    "    wage_per_week = hours_worked * wage_per_hour\n",
    "    print(\"Total wage per week :\",wage_per_week)\n",
    "else:\n",
    "    extra_hours_worked = hours_worked - 30\n",
    "    wage_per_week = (extra_hours_worked*wage_per_hour*2) + 30*wage_per_hour\n",
    "    print(\"Total wage per week :\", wage_per_week)"
   ]
  }
 ],
 "metadata": {
  "kernelspec": {
   "display_name": "Python 3",
   "language": "python",
   "name": "python3"
  },
  "language_info": {
   "codemirror_mode": {
    "name": "ipython",
    "version": 3
   },
   "file_extension": ".py",
   "mimetype": "text/x-python",
   "name": "python",
   "nbconvert_exporter": "python",
   "pygments_lexer": "ipython3",
   "version": "3.7.6"
  }
 },
 "nbformat": 4,
 "nbformat_minor": 4
}
