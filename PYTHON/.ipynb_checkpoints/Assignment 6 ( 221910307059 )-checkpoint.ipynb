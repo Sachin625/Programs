{
 "cells": [
  {
   "cell_type": "markdown",
   "metadata": {},
   "source": [
    "### Name : Veeramalla Sachin\n",
    "### Pin  : 221910307059"
   ]
  },
  {
   "cell_type": "markdown",
   "metadata": {},
   "source": [
    "### Question 1 : Write a Python program to count the number of strings where the string length is 2 or more from the given list of strings"
   ]
  },
  {
   "cell_type": "code",
   "execution_count": 51,
   "metadata": {},
   "outputs": [
    {
     "name": "stdout",
     "output_type": "stream",
     "text": [
      "Enter list of string with spaces : hi m n hello world abcdsasfdq\n",
      "List of Strings : ['hi', 'm', 'n', 'hello', 'world', 'abcdsasfdq']\n",
      "Number of Strings with length grater or equal to 2 : 4\n"
     ]
    }
   ],
   "source": [
    "count = 0 \n",
    "lst = list(map(str, input(\"Enter list of string with spaces : \").split()))\n",
    "print(\"List of Strings :\",lst)\n",
    "for s in lst:\n",
    "    if len(s)>=2:\n",
    "        count +=1\n",
    "print(\"Number of Strings with length grater or equal to 2 :\",count)"
   ]
  },
  {
   "cell_type": "markdown",
   "metadata": {},
   "source": [
    "### Question 2 : Write a user defined function to insert an element at a given index position into a integer list."
   ]
  },
  {
   "cell_type": "code",
   "execution_count": 20,
   "metadata": {},
   "outputs": [
    {
     "name": "stdout",
     "output_type": "stream",
     "text": [
      "Enter number of elements in list : 4\n",
      "Enter list elements : 5\n",
      "Enter list elements : 1\n",
      "Enter list elements : 7\n",
      "Enter list elements : 2\n",
      "Elements of the list :  [5, 1, 7, 2]\n",
      "Enter a number to add into the list : 7\n",
      "Enter the index of where you want to add the element : 1\n",
      "Updated list :  [5, 7, 1, 7, 2]\n"
     ]
    }
   ],
   "source": [
    "def lst():   \n",
    "    lst=[]\n",
    "    n = int(input(\"Enter number of elements in list : \")) \n",
    "    for i in range(0, n): \n",
    "        x = int(input(\"Enter list elements : \")) \n",
    "        lst.append(x)\n",
    "    return lst\n",
    "def insert_element(index,element):\n",
    "    if(index>len(lst1)):\n",
    "        print(\"Enter a valid index\")\n",
    "    else:\n",
    "        lst1.insert(index,element) \n",
    "        print(\"Updated list : \",lst1) \n",
    "lst1=lst()\n",
    "print(\"Elements of the list : \",lst1)\n",
    "element = int(input(\"Enter a number to add into the list : \"))\n",
    "index = int(input(\"Enter the index of where you want to add the element : \"))\n",
    "insert_element(index,element)"
   ]
  },
  {
   "cell_type": "markdown",
   "metadata": {},
   "source": [
    "### Question 3 : Given a list of numbers, return the number of elements that are in correct indices, if the list were to be sorted.\n",
    "Example: input= [1,7,3,4,10]\n",
    "Output: 2\n",
    "Explanation: After sorting the list is [1, 3, 4, 7, 10]. In the given list elements 1 and 10\n",
    "already in correct position"
   ]
  },
  {
   "cell_type": "code",
   "execution_count": 41,
   "metadata": {},
   "outputs": [
    {
     "name": "stdout",
     "output_type": "stream",
     "text": [
      "Enter elements of a list : 3 1 4 2 5 6 \n",
      "list :  [3, 1, 4, 2, 5, 6]\n",
      "List after sorting: [1, 2, 3, 4, 5, 6]\n",
      "Elements at correct indices before sorting : 2\n"
     ]
    }
   ],
   "source": [
    "count = 0\n",
    "lst = list(map(int,input(\"Enter elements of a list : \").split()))\n",
    "print(\"list : \",lst)\n",
    "lst_copy = lst.copy()\n",
    "lst.sort()\n",
    "print(\"List after sorting:\",lst)\n",
    "for num in range(len(lst)):\n",
    "    if(lst[num] == lst_copy[num]):\n",
    "        count += 1\n",
    "print(\"Elements at correct indices before sorting :\",count)"
   ]
  },
  {
   "cell_type": "markdown",
   "metadata": {},
   "source": [
    "### Question 4 : Given a list of integers nums, return the largest difference of two consecutive integers in the sorted verstion of nums.\n",
    "nums=[4,1,2,8,9,10]\n",
    "output=4\n",
    "Expalnation: The largest gap is between 4 and 8"
   ]
  },
  {
   "cell_type": "code",
   "execution_count": 54,
   "metadata": {},
   "outputs": [
    {
     "name": "stdout",
     "output_type": "stream",
     "text": [
      "Enter elements of a list : 6 2 9 12 8 4 7 9\n",
      "Elements of list :  [6, 2, 9, 12, 8, 4, 7, 9]\n",
      "List after sorting :  [2, 4, 6, 7, 8, 9, 9, 12]\n",
      "Maximum difference between consecutive elements  3\n"
     ]
    }
   ],
   "source": [
    "lst = list(map(int,input(\"Enter elements of a list : \").split()))\n",
    "print(\"Elements of list : \",lst)\n",
    "lst.sort()\n",
    "print(\"List after sorting : \",lst)\n",
    "result = []\n",
    "for num in range(len(lst)-1):\n",
    "    result.append(lst[num+1]-lst[num])\n",
    "print(\"Maximum difference between consecutive elements \",max(result))"
   ]
  },
  {
   "cell_type": "markdown",
   "metadata": {},
   "source": [
    "### Question 5 : Given an integer n, return a list of integers from 1 to n as strings except for multiples of 3 use “Fizz” instead of the integer and for the multiples of 5 use “Buzz”. For integers which are multiples of both 3 and 5 use “FizzBuzz”.\n",
    "Input: n=15\n",
    "Output: [\"1\", \"2\", \"Fizz\", \"4\", \"Buzz\", \"Fizz\", \"7\", \"8\", \"Fizz\", \"Buzz\", \"11\", \"Fizz\",\n",
    "\"13\", \"14\", \"FizzBuzz\"]"
   ]
  },
  {
   "cell_type": "code",
   "execution_count": 8,
   "metadata": {},
   "outputs": [
    {
     "name": "stdout",
     "output_type": "stream",
     "text": [
      "Enter an integer : 15\n",
      "[1, 2, 'Fizz', 4, 'Buzz', 'Fizz', 7, 8, 'Fizz', 'Buzz', 11, 'Fizz', 13, 14, 'Fizz']\n"
     ]
    }
   ],
   "source": [
    "list1=[]\n",
    "def samp(n):\n",
    "    for i in range(1,n+1):\n",
    "        if(i%3==0):\n",
    "            list1.append(\"Fizz\")\n",
    "        elif(i%5==0):\n",
    "            list1.append(\"Buzz\")\n",
    "        elif(i%3==0 and i%5==0):\n",
    "            list1.append(\"FizzBuzz\")\n",
    "        else:\n",
    "            list1.append(i)\n",
    "n=int(input(\"Enter an integer : \"))\n",
    "samp(n)\n",
    "print(list1)"
   ]
  }
 ],
 "metadata": {
  "kernelspec": {
   "display_name": "Python 3",
   "language": "python",
   "name": "python3"
  },
  "language_info": {
   "codemirror_mode": {
    "name": "ipython",
    "version": 3
   },
   "file_extension": ".py",
   "mimetype": "text/x-python",
   "name": "python",
   "nbconvert_exporter": "python",
   "pygments_lexer": "ipython3",
   "version": "3.7.6"
  }
 },
 "nbformat": 4,
 "nbformat_minor": 4
}
