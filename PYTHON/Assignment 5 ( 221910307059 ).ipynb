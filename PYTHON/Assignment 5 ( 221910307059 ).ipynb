{
 "cells": [
  {
   "cell_type": "markdown",
   "metadata": {},
   "source": [
    "### Name : Veeramalla Sachin\n",
    "### Pin  : 221910307059"
   ]
  },
  {
   "cell_type": "markdown",
   "metadata": {},
   "source": [
    "### Question 1 :  Write a program to Count number of integers, number of floats and number of strings in a list."
   ]
  },
  {
   "cell_type": "code",
   "execution_count": 2,
   "metadata": {},
   "outputs": [
    {
     "name": "stdout",
     "output_type": "stream",
     "text": [
      "Number of integers in a list :  3\n",
      "Number of floats in a list :  3\n",
      "Number of strings in a list :  3\n"
     ]
    }
   ],
   "source": [
    "lst1 = [1,\"sachin\",3.14,25,\"dajd\",9.8,2.7,3000,\"hgaNBDFJY\"]\n",
    "x=[]\n",
    "y=[]\n",
    "z=[]\n",
    "for i in lst1:\n",
    "    if type(i)==int:\n",
    "        x.append(i)\n",
    "    elif type(i)==float:\n",
    "        y.append(i)\n",
    "    elif type(i)==str:\n",
    "        z.append(i)\n",
    "print(\"Number of integers in a list : \",len(x))\n",
    "print(\"Number of floats in a list : \",len(y))\n",
    "print(\"Number of strings in a list : \",len(z))"
   ]
  },
  {
   "cell_type": "markdown",
   "metadata": {},
   "source": [
    "### Question 2 : Write a python program to determine mean of a given list of numbers."
   ]
  },
  {
   "cell_type": "code",
   "execution_count": 4,
   "metadata": {},
   "outputs": [
    {
     "name": "stdout",
     "output_type": "stream",
     "text": [
      "Mean of given list :  4.827142857142857\n"
     ]
    }
   ],
   "source": [
    "lst_1 = [3.4,5,6,1,8.39,7,3]\n",
    "n=len(lst_1)\n",
    "sum=0\n",
    "for i in range(n):\n",
    "    sum=sum+lst_1[i]\n",
    "mean=sum/n\n",
    "print(\"Mean of given list : \",mean)"
   ]
  },
  {
   "cell_type": "markdown",
   "metadata": {},
   "source": [
    "### Question 3 : Write a program to find maximum element index and minimum element index in a given list."
   ]
  },
  {
   "cell_type": "code",
   "execution_count": 21,
   "metadata": {},
   "outputs": [
    {
     "name": "stdout",
     "output_type": "stream",
     "text": [
      "Maximum element of list :  10\n",
      "Maximum element index of list :  6\n",
      "Minimum element of list :  -7\n",
      "Minimum element index of list :  9\n"
     ]
    }
   ],
   "source": [
    "lst2 = [3,9.18,4.32,9,2,1,10,-5,8.39,-7]\n",
    "max = lst2[0]\n",
    "min = lst2[0]\n",
    "count_max=0\n",
    "count_min=0\n",
    "n = len(lst2)\n",
    "for i in range(n):\n",
    "    if(max<lst2[i]):\n",
    "        max=lst2[i]\n",
    "        count_max=i\n",
    "for i in range(n): \n",
    "    if(min>lst2[i]):\n",
    "        min=lst2[i]\n",
    "        count_min=i\n",
    "print(\"Maximum element of list : \",max)\n",
    "print(\"Maximum element index of list : \",count_max)\n",
    "print(\"Minimum element of list : \",min)\n",
    "print(\"Minimum element index of list : \",count_min)"
   ]
  },
  {
   "cell_type": "markdown",
   "metadata": {},
   "source": [
    "### Question 4 : Write a program to find addition of 2 integer Lists."
   ]
  },
  {
   "cell_type": "code",
   "execution_count": 16,
   "metadata": {},
   "outputs": [
    {
     "name": "stdout",
     "output_type": "stream",
     "text": [
      "Enter number of elements in list : 3\n",
      "Enter list elements : 1\n",
      "Enter list elements : 2\n",
      "Enter list elements : 3\n",
      "Enter number of elements in list : 3\n",
      "Enter list elements : 1\n",
      "Enter list elements : 2\n",
      "Enter list elements : 3\n",
      "Addition of two integer list :  [2, 4, 6]\n"
     ]
    }
   ],
   "source": [
    "from operator import add \n",
    "result=[]\n",
    "def lst():\n",
    "    lst=[]\n",
    "    n = int(input(\"Enter number of elements in list : \")) \n",
    "    for i in range(0, n): \n",
    "        x = int(input(\"Enter list elements : \")) \n",
    "        lst.append(x)\n",
    "    return lst\n",
    "lst3=lst()\n",
    "lst4=lst()\n",
    "if(len(lst3)==len(lst4)):\n",
    "    result = list(map(add,lst3,lst4))\n",
    "    print(\"Addition of two integer list : \",result)\n",
    "else:\n",
    "    print(\"Enter same length list\")"
   ]
  },
  {
   "cell_type": "markdown",
   "metadata": {},
   "source": [
    "### Question 5 : Given 2 integer arrays, a and b, each length 5, return a new array length 2 containing their middle elements.\n",
    "middle_way([7,1, 2, 3,9], [8,4, 5, 6,3]) → [2, 5]"
   ]
  },
  {
   "cell_type": "code",
   "execution_count": 27,
   "metadata": {},
   "outputs": [
    {
     "name": "stdout",
     "output_type": "stream",
     "text": [
      "new array :  [2, 5]\n"
     ]
    }
   ],
   "source": [
    "a =[7,1, 2, 3,9]\n",
    "b = [8,4, 5, 6,3]\n",
    "lst=[]\n",
    "for i in range(0,5):\n",
    "    if(i==2):\n",
    "        lst.append(a[i])\n",
    "        lst.append(b[i])\n",
    "print(\"new array : \",lst)"
   ]
  }
 ],
 "metadata": {
  "kernelspec": {
   "display_name": "Python 3",
   "language": "python",
   "name": "python3"
  },
  "language_info": {
   "codemirror_mode": {
    "name": "ipython",
    "version": 3
   },
   "file_extension": ".py",
   "mimetype": "text/x-python",
   "name": "python",
   "nbconvert_exporter": "python",
   "pygments_lexer": "ipython3",
   "version": "3.7.6"
  }
 },
 "nbformat": 4,
 "nbformat_minor": 4
}
